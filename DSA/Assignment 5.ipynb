{
 "cells": [
  {
   "cell_type": "markdown",
   "id": "501cbfb3-b175-4847-8646-73e3686f0b0f",
   "metadata": {},
   "source": [
    "## Assignment 5 (Solved in Python)"
   ]
  },
  {
   "cell_type": "markdown",
   "id": "e30ca34c-8674-4c87-bdcc-c4eaab28b8d2",
   "metadata": {},
   "source": [
    "\n",
    "💡 **Question 1**\n",
    "\n",
    "Convert 1D Array Into 2D Array\n",
    "\n",
    "You are given a **0-indexed** 1-dimensional (1D) integer array original, and two integers, m and n. You are tasked with creating a 2-dimensional (2D) array with  m rows and n columns using **all** the elements from original.\n",
    "\n",
    "The elements from indices 0 to n - 1 (**inclusive**) of original should form the first row of the constructed 2D array, the elements from indices n to 2 * n - 1 (**inclusive**) should form the second row of the constructed 2D array, and so on.\n",
    "\n",
    "Return *an* m x n *2D array constructed according to the above procedure, or an empty 2D array if it is impossible*.\n",
    "\n",
    "**Example 1:**\n",
    "**Input:** original = [1,2,3,4], m = 2, n = 2\n",
    "\n",
    "**Output:** [[1,2],[3,4]]\n",
    "\n",
    "**Explanation:** The constructed 2D array should contain 2 rows and 2 columns.\n",
    "\n",
    "The first group of n=2 elements in original, [1,2], becomes the first row in the constructed 2D array.\n",
    "\n",
    "The second group of n=2 elements in original, [3,4], becomes the second row in the constructed 2D array.\n",
    "</aside>"
   ]
  },
  {
   "cell_type": "code",
   "execution_count": 10,
   "id": "ebd3fb1f-d46b-4a09-8cca-2cef57b35ec2",
   "metadata": {},
   "outputs": [
    {
     "name": "stdout",
     "output_type": "stream",
     "text": [
      "Output: [[1, 2], [3, 4]]\n"
     ]
    }
   ],
   "source": [
    "def construct2DArray(original, m, n):\n",
    "    if len(original) != m * n:\n",
    "        return []\n",
    "\n",
    "    matrix = []\n",
    "    for i in range(m):\n",
    "        row = original[i * n:(i + 1) * n]\n",
    "        matrix.append(row)\n",
    "\n",
    "    return matrix\n",
    "\n",
    "\n",
    "# Test case\n",
    "original = [1, 2, 3, 4]\n",
    "m = 2\n",
    "n = 2\n",
    "result = construct2DArray(original, m, n)\n",
    "print(\"Output:\", result)\n"
   ]
  },
  {
   "cell_type": "markdown",
   "id": "c53aef48-fce2-49b5-9cb8-9b6137ab1697",
   "metadata": {},
   "source": [
    "\n",
    "💡 **Question 2**\n",
    "\n",
    "You have n coins and you want to build a staircase with these coins. The staircase consists of k rows where the ith row has exactly i coins. The last row of the staircase **may be** incomplete.\n",
    "\n",
    "Given the integer n, return *the number of **complete rows** of the staircase you will build*.\n",
    "\n",
    "**Example 1:**\n",
    "**Input:** n = 5\n",
    "\n",
    "**Output:** 2\n",
    "\n",
    "**Explanation:** Because the 3rd row is incomplete, we return 2.\n",
    "\n",
    "</aside>"
   ]
  },
  {
   "cell_type": "code",
   "execution_count": 11,
   "id": "22bd21df-c915-47f9-bd79-68ae8f2628e7",
   "metadata": {},
   "outputs": [
    {
     "name": "stdout",
     "output_type": "stream",
     "text": [
      "Output: 2\n"
     ]
    }
   ],
   "source": [
    "def arrangeCoins(n):\n",
    "    row = 1\n",
    "    while n >= row:\n",
    "        n -= row\n",
    "        row += 1\n",
    "    return row - 1\n",
    "\n",
    "\n",
    "# Test case\n",
    "n = 5\n",
    "result = arrangeCoins(n)\n",
    "print(\"Output:\", result)\n"
   ]
  },
  {
   "cell_type": "markdown",
   "id": "26099059-b952-4b72-b6e6-b60dc4379e94",
   "metadata": {},
   "source": [
    "\n",
    "💡 **Question 3**\n",
    "\n",
    "Given an integer array nums sorted in **non-decreasing** order, return *an array of **the squares of each number** sorted in non-decreasing order*.\n",
    "\n",
    "**Example 1:**\n",
    "\n",
    "**Input:** nums = [-4,-1,0,3,10]\n",
    "\n",
    "**Output:** [0,1,9,16,100]\n",
    "\n",
    "**Explanation:** After squaring, the array becomes [16,1,0,9,100].\n",
    "\n",
    "After sorting, it becomes [0,1,9,16,100].\n",
    "\n",
    "</aside>"
   ]
  },
  {
   "cell_type": "code",
   "execution_count": 13,
   "id": "e77eb497-886f-4615-a59d-3253a36934c8",
   "metadata": {},
   "outputs": [
    {
     "name": "stdout",
     "output_type": "stream",
     "text": [
      "Output: [0, 1, 9, 16, 100]\n"
     ]
    }
   ],
   "source": [
    "def sortedSquares(nums):\n",
    "    n = len(nums)\n",
    "    result = [0] * n\n",
    "    left, right = 0, n - 1\n",
    "    index = n - 1\n",
    "\n",
    "    while left <= right:\n",
    "        if abs(nums[left]) > abs(nums[right]):\n",
    "            result[index] = nums[left] * nums[left]\n",
    "            left += 1\n",
    "        else:\n",
    "            result[index] = nums[right] * nums[right]\n",
    "            right -= 1\n",
    "        index -= 1\n",
    "\n",
    "    return result\n",
    "\n",
    "\n",
    "# Test case\n",
    "nums = [-4, -1, 0, 3, 10]\n",
    "result = sortedSquares(nums)\n",
    "print(\"Output:\", result)\n"
   ]
  },
  {
   "cell_type": "markdown",
   "id": "321f6cee-d25e-4327-b429-a3c18078d8fd",
   "metadata": {},
   "source": [
    "\n",
    "💡 **Question 4**\n",
    "\n",
    "Given two **0-indexed** integer arrays nums1 and nums2, return *a list* answer *of size* 2 *where:*\n",
    "\n",
    "- answer[0] *is a list of all **distinct** integers in* nums1 *which are **not** present in* nums2*.*\n",
    "- answer[1] *is a list of all **distinct** integers in* nums2 *which are **not** present in* nums1.\n",
    "\n",
    "**Note** that the integers in the lists may be returned in **any** order.\n",
    "\n",
    "**Example 1:**\n",
    "\n",
    "**Input:** nums1 = [1,2,3], nums2 = [2,4,6]\n",
    "\n",
    "**Output:** [[1,3],[4,6]]\n",
    "\n",
    "**Explanation:**\n",
    "\n",
    "For nums1, nums1[1] = 2 is present at index 0 of nums2, whereas nums1[0] = 1 and nums1[2] = 3 are not present in nums2. Therefore, answer[0] = [1,3].\n",
    "\n",
    "For nums2, nums2[0] = 2 is present at index 1 of nums1, whereas nums2[1] = 4 and nums2[2] = 6 are not present in nums2. Therefore, answer[1] = [4,6].\n",
    "\n",
    "</aside>"
   ]
  },
  {
   "cell_type": "code",
   "execution_count": 2,
   "id": "f88b9ae5-85cb-4ec6-8020-ec6d2b09cd51",
   "metadata": {},
   "outputs": [
    {
     "name": "stdout",
     "output_type": "stream",
     "text": [
      "Output: [[1, 3], [4, 6]]\n"
     ]
    }
   ],
   "source": [
    "def findDisappearedNumbers(nums1, nums2):\n",
    "    set1 = set(nums1)\n",
    "    set2 = set(nums2)\n",
    "\n",
    "    missing_nums1 = [num for num in nums1 if num not in set2]\n",
    "    missing_nums2 = [num for num in nums2 if num not in set1]\n",
    "\n",
    "    return [missing_nums1, missing_nums2]\n",
    "\n",
    "\n",
    "# Test case\n",
    "nums1 = [1, 2, 3]\n",
    "nums2 = [2, 4, 6]\n",
    "result = findDisappearedNumbers(nums1, nums2)\n",
    "print(\"Output:\", result)\n"
   ]
  },
  {
   "cell_type": "markdown",
   "id": "bad1db78-77ac-4dc9-b1f0-f9f8e34d7257",
   "metadata": {},
   "source": [
    "\n",
    "💡 **Question 5**\n",
    "\n",
    "Given two integer arrays arr1 and arr2, and the integer d, *return the distance value between the two arrays*.\n",
    "\n",
    "The distance value is defined as the number of elements arr1[i] such that there is not any element arr2[j] where |arr1[i]-arr2[j]| <= d.\n",
    "\n",
    "**Example 1:**\n",
    "\n",
    "**Input:** arr1 = [4,5,8], arr2 = [10,9,1,8], d = 2\n",
    "\n",
    "**Output:** 2\n",
    "\n",
    "**Explanation:**\n",
    "\n",
    "For arr1[0]=4 we have:\n",
    "\n",
    "|4-10|=6 > d=2\n",
    "\n",
    "|4-9|=5 > d=2\n",
    "\n",
    "|4-1|=3 > d=2\n",
    "\n",
    "|4-8|=4 > d=2\n",
    "\n",
    "For arr1[1]=5 we have:\n",
    "\n",
    "|5-10|=5 > d=2\n",
    "\n",
    "|5-9|=4 > d=2\n",
    "\n",
    "|5-1|=4 > d=2\n",
    "\n",
    "|5-8|=3 > d=2\n",
    "\n",
    "For arr1[2]=8 we have:\n",
    "\n",
    "**|8-10|=2 <= d=2**\n",
    "\n",
    "**|8-9|=1 <= d=2**\n",
    "\n",
    "|8-1|=7 > d=2\n",
    "\n",
    "**|8-8|=0 <= d=2**\n",
    "\n",
    "</aside>"
   ]
  },
  {
   "cell_type": "code",
   "execution_count": 3,
   "id": "675ee3e9-5e85-4ede-b408-2c9fbed478cc",
   "metadata": {},
   "outputs": [
    {
     "name": "stdout",
     "output_type": "stream",
     "text": [
      "Output: 2\n"
     ]
    }
   ],
   "source": [
    "def findDistanceValue(arr1, arr2, d):\n",
    "    count = 0\n",
    "\n",
    "    for num1 in arr1:\n",
    "        found = True\n",
    "\n",
    "        for num2 in arr2:\n",
    "            if abs(num1 - num2) <= d:\n",
    "                found = False\n",
    "                break\n",
    "\n",
    "        if found:\n",
    "            count += 1\n",
    "\n",
    "    return count\n",
    "\n",
    "\n",
    "# Test case\n",
    "arr1 = [4, 5, 8]\n",
    "arr2 = [10, 9, 1, 8]\n",
    "d = 2\n",
    "result = findDistanceValue(arr1, arr2, d)\n",
    "print(\"Output:\", result)\n"
   ]
  },
  {
   "cell_type": "markdown",
   "id": "aaf29f9a-2fec-4a26-827f-472148eba8d4",
   "metadata": {},
   "source": [
    "\n",
    "💡 **Question 6**\n",
    "\n",
    "Given an integer array nums of length n where all the integers of nums are in the range [1, n] and each integer appears **once** or **twice**, return *an array of all the integers that appears **twice***.\n",
    "\n",
    "You must write an algorithm that runs in O(n) time and uses only constant extra space.\n",
    "\n",
    "**Example 1:**\n",
    "\n",
    "**Input:** nums = [4,3,2,7,8,2,3,1]\n",
    "\n",
    "**Output:**\n",
    "\n",
    "[2,3]\n",
    "\n",
    "</aside>"
   ]
  },
  {
   "cell_type": "code",
   "execution_count": 4,
   "id": "8c31d5d5-be84-4c30-9452-5d98d35e483f",
   "metadata": {},
   "outputs": [
    {
     "name": "stdout",
     "output_type": "stream",
     "text": [
      "Output: 2\n"
     ]
    }
   ],
   "source": [
    "def findDistanceValue(arr1, arr2, d):\n",
    "    count = 0\n",
    "\n",
    "    for num1 in arr1:\n",
    "        found = True\n",
    "\n",
    "        for num2 in arr2:\n",
    "            if abs(num1 - num2) <= d:\n",
    "                found = False\n",
    "                break\n",
    "\n",
    "        if found:\n",
    "            count += 1\n",
    "\n",
    "    return count\n",
    "\n",
    "\n",
    "# Test case\n",
    "arr1 = [4, 5, 8]\n",
    "arr2 = [10, 9, 1, 8]\n",
    "d = 2\n",
    "result = findDistanceValue(arr1, arr2, d)\n",
    "print(\"Output:\", result)\n"
   ]
  },
  {
   "cell_type": "markdown",
   "id": "b7946271-06e6-4654-bc55-6a5f3b5b98a6",
   "metadata": {},
   "source": [
    "\n",
    "💡 **Question 7**\n",
    "\n",
    "Suppose an array of length n sorted in ascending order is **rotated** between 1 and n times. For example, the array nums = [0,1,2,4,5,6,7] might become:\n",
    "\n",
    "- [4,5,6,7,0,1,2] if it was rotated 4 times.\n",
    "- [0,1,2,4,5,6,7] if it was rotated 7 times.\n",
    "\n",
    "Notice that **rotating** an array [a[0], a[1], a[2], ..., a[n-1]] 1 time results in the array [a[n-1], a[0], a[1], a[2], ..., a[n-2]].\n",
    "\n",
    "Given the sorted rotated array nums of **unique** elements, return *the minimum element of this array*.\n",
    "\n",
    "You must write an algorithm that runs in O(log n) time.\n",
    "\n",
    "**Example 1:**\n",
    "\n",
    "**Input:** nums = [3,4,5,1,2]\n",
    "\n",
    "**Output:** 1\n",
    "\n",
    "**Explanation:**\n",
    "\n",
    "The original array was [1,2,3,4,5] rotated 3 times.\n",
    "\n",
    "</aside>"
   ]
  },
  {
   "cell_type": "code",
   "execution_count": 5,
   "id": "e2997094-1d89-4268-aeb8-9213aec8f47b",
   "metadata": {},
   "outputs": [
    {
     "name": "stdout",
     "output_type": "stream",
     "text": [
      "Output: 1\n"
     ]
    }
   ],
   "source": [
    "def findMin(nums):\n",
    "    left = 0\n",
    "    right = len(nums) - 1\n",
    "\n",
    "    while left < right:\n",
    "        mid = left + (right - left) // 2\n",
    "\n",
    "        # If the middle element is greater than the rightmost element,\n",
    "        # the minimum element lies in the right half of the array.\n",
    "        if nums[mid] > nums[right]:\n",
    "            left = mid + 1\n",
    "        # If the middle element is less than or equal to the rightmost element,\n",
    "        # the minimum element lies in the left half of the array.\n",
    "        else:\n",
    "            right = mid\n",
    "\n",
    "    return nums[left]\n",
    "\n",
    "\n",
    "# Test case\n",
    "nums = [3, 4, 5, 1, 2]\n",
    "result = findMin(nums)\n",
    "print(\"Output:\", result)\n"
   ]
  },
  {
   "cell_type": "markdown",
   "id": "83a5ff03-95cb-45e5-b721-f016601d3cc5",
   "metadata": {},
   "source": [
    "\n",
    "💡 **Question 8**\n",
    "\n",
    "An integer array original is transformed into a **doubled** array changed by appending **twice the value** of every element in original, and then randomly **shuffling** the resulting array.\n",
    "\n",
    "Given an array changed, return original *if* changed *is a **doubled** array. If* changed *is not a **doubled** array, return an empty array. The elements in* original *may be returned in **any** order*.\n",
    "\n",
    "**Example 1:**\n",
    "\n",
    "**Input:** changed = [1,3,4,2,6,8]\n",
    "\n",
    "**Output:** [1,3,4]\n",
    "\n",
    "**Explanation:** One possible original array could be [1,3,4]:\n",
    "\n",
    "- Twice the value of 1 is 1 * 2 = 2.\n",
    "- Twice the value of 3 is 3 * 2 = 6.\n",
    "- Twice the value of 4 is 4 * 2 = 8.\n",
    "\n",
    "Other original arrays could be [4,3,1] or [3,1,4].\n",
    "\n",
    "</aside>"
   ]
  },
  {
   "cell_type": "code",
   "execution_count": 8,
   "id": "38ccce41-1a23-4416-89cc-d0318661c451",
   "metadata": {},
   "outputs": [
    {
     "name": "stdout",
     "output_type": "stream",
     "text": [
      "Output: [1, 3, 4]\n"
     ]
    }
   ],
   "source": [
    "def findOriginalArray(changed):\n",
    "    if len(changed) % 2 != 0:\n",
    "        return []\n",
    "\n",
    "    original = []\n",
    "    freq = {}\n",
    "    \n",
    "    # Count the frequency of elements in changed\n",
    "    for num in changed:\n",
    "        freq[num] = freq.get(num, 0) + 1\n",
    "\n",
    "    # Iterate through the changed array\n",
    "    for num in sorted(changed):\n",
    "        # If the current number has already been used\n",
    "        if freq.get(num, 0) == 0:\n",
    "            continue\n",
    "\n",
    "        # If the doubled value of the current number is not present in changed\n",
    "        if freq.get(num * 2, 0) == 0:\n",
    "            return []\n",
    "\n",
    "        # Decrement the frequency of the current number and its doubled value\n",
    "        freq[num] -= 1\n",
    "        freq[num * 2] -= 1\n",
    "\n",
    "        # Append the current number to the original array\n",
    "        original.append(num)\n",
    "\n",
    "    return original\n",
    "\n",
    "\n",
    "# Test case\n",
    "changed = [1, 3, 4, 2, 6, 8]\n",
    "result = findOriginalArray(changed)\n",
    "print(\"Output:\", result)\n"
   ]
  },
  {
   "cell_type": "code",
   "execution_count": null,
   "id": "b0f96e44-4fd7-47ef-a9b2-c4d9b7957930",
   "metadata": {},
   "outputs": [],
   "source": []
  }
 ],
 "metadata": {
  "kernelspec": {
   "display_name": "Python 3 (ipykernel)",
   "language": "python",
   "name": "python3"
  },
  "language_info": {
   "codemirror_mode": {
    "name": "ipython",
    "version": 3
   },
   "file_extension": ".py",
   "mimetype": "text/x-python",
   "name": "python",
   "nbconvert_exporter": "python",
   "pygments_lexer": "ipython3",
   "version": "3.10.8"
  }
 },
 "nbformat": 4,
 "nbformat_minor": 5
}
