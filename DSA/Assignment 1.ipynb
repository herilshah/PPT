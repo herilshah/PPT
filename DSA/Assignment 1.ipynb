{
 "cells": [
  {
   "cell_type": "markdown",
   "id": "c81f58e4-725c-4b61-b9da-5b3e33e82d76",
   "metadata": {},
   "source": [
    "# ASSIGNMENT 1 "
   ]
  },
  {
   "cell_type": "markdown",
   "id": "b1b9d599-cbf7-4ff9-b9ba-6b2401bb4e0b",
   "metadata": {},
   "source": [
    "\n",
    "**Q1**. Given an array of integers nums and an integer target, return indices of the two numbers such that they add up to target.\n",
    "\n",
    "You may assume that each input would have exactly one solution, and you may not use the same element twice.\n",
    "\n",
    "You can return the answer in any order.\n",
    "\n",
    "**Example:**\n",
    "Input: nums = [2,7,11,15], target = 9\n",
    "Output0 [0,1]\n",
    "\n",
    "**Explanation:** Because nums[0] + nums[1] == 9, we return [0, 1]\n",
    "\n",
    "</aside>"
   ]
  },
  {
   "cell_type": "code",
   "execution_count": 4,
   "id": "90b8f7f5-2bfc-49cd-b76b-dc8525f2b89f",
   "metadata": {},
   "outputs": [
    {
     "name": "stdout",
     "output_type": "stream",
     "text": [
      "[0, 1]\n"
     ]
    }
   ],
   "source": [
    "def two_sum(nums, target):\n",
    "    num_dict = {}\n",
    "    \n",
    "    for i, num in enumerate(nums):\n",
    "        complement = target - num\n",
    "        if complement in num_dict:\n",
    "            return [num_dict[complement], i]\n",
    "        num_dict[num] = i\n",
    "    \n",
    "    return [] \n",
    "\n",
    "\n",
    "nums = [2, 7, 11, 15]\n",
    "target = 9\n",
    "result = two_sum(nums, target)\n",
    "print(result)\n"
   ]
  },
  {
   "cell_type": "markdown",
   "id": "1dbc7bdd-7c5c-41c7-8261-5986680488c5",
   "metadata": {},
   "source": [
    "**Q2** Given an integer array nums and an integer val, remove all occurrences of val in nums in-place. The order of the elements may be changed. Then return the number of elements in nums which are not equal to val.\n",
    "\n",
    "Consider the number of elements in nums which are not equal to val be k, to get accepted, you need to do the following things:\n",
    "\n",
    "Change the array nums such that the first k elements of nums contain the elements which are not equal to val. The remaining elements of nums are not important as well as the size of nums.\n",
    "Return k.\n",
    "Example : Input: nums = [3,2,2,3], val = 3 Output: 2, nums = [2,2,*,*]\n",
    "\n",
    "Explanation: Your function should return k = 2, with the first two elements of nums being 2. It does not matter what you leave beyond the returned k (hence they are underscores)"
   ]
  },
  {
   "cell_type": "code",
   "execution_count": 7,
   "id": "c82cd80e-d45d-4191-890e-086ea9be0d84",
   "metadata": {},
   "outputs": [
    {
     "name": "stdout",
     "output_type": "stream",
     "text": [
      "k = 2\n",
      "nums = [2, 2]\n"
     ]
    }
   ],
   "source": [
    "def removeElement(nums, val):\n",
    "    k = 0  \n",
    "    i = 0  \n",
    "    n = len(nums)  \n",
    "\n",
    "    while i < n:\n",
    "        if nums[i] != val:\n",
    "            nums[k] = nums[i]\n",
    "            k += 1\n",
    "        i += 1\n",
    "\n",
    "    return k\n",
    "\n",
    "\n",
    "nums = [3, 2, 2, 3]\n",
    "val = 3\n",
    "k = removeElement(nums, val)\n",
    "print(\"k =\", k)\n",
    "print(\"nums =\", nums[:k])"
   ]
  },
  {
   "cell_type": "markdown",
   "id": "b8c15d68-6166-4d3d-a2a4-894d252e8990",
   "metadata": {},
   "source": [
    "**Q3.** Given a sorted array of distinct integers and a target value, return the index if the target is found. If not, return the index where it would be if it were inserted in order.\n",
    "\n",
    "You must write an algorithm with O(log n) runtime complexity.\n",
    "\n",
    "Example 1: Input: nums = [1,3,5,6], target = 5\n",
    "\n",
    "Output: 2"
   ]
  },
  {
   "cell_type": "code",
   "execution_count": 8,
   "id": "51fd3330-e3b0-4d40-abed-e0c27664c880",
   "metadata": {},
   "outputs": [
    {
     "name": "stdout",
     "output_type": "stream",
     "text": [
      "2\n"
     ]
    }
   ],
   "source": [
    "def searchInsert(nums, target):\n",
    "    left = 0\n",
    "    right = len(nums) - 1\n",
    "\n",
    "    while left <= right:\n",
    "        mid = (left + right) // 2\n",
    "\n",
    "        if nums[mid] == target:\n",
    "            return mid\n",
    "        elif nums[mid] < target:\n",
    "            left = mid + 1\n",
    "        else:\n",
    "            right = mid - 1\n",
    "\n",
    "    return left\n",
    "\n",
    "\n",
    "nums = [1, 3, 5, 6]\n",
    "target = 5\n",
    "result = searchInsert(nums, target)\n",
    "print(result)"
   ]
  },
  {
   "cell_type": "markdown",
   "id": "3fccfbf8-3543-4567-be82-0d7c7051aaba",
   "metadata": {},
   "source": [
    "**Q4.** You are given a large integer represented as an integer array digits, where each digits[i] is the ith digit of the integer. The digits are ordered from most significant to least significant in left-to-right order. The large integer does not contain any leading 0's.\n",
    "\n",
    "Increment the large integer by one and return the resulting array of digits.\n",
    "\n",
    "Example 1: Input: digits = [1,2,3] Output: [1,2,4]\n",
    "\n",
    "Explanation: The array represents the integer 123.\n",
    "\n",
    "Incrementing by one gives 123 + 1 = 124. Thus, the result should be [1,2,4]."
   ]
  },
  {
   "cell_type": "code",
   "execution_count": 9,
   "id": "c076e945-ec1e-4fa2-b821-6df7cae13af7",
   "metadata": {},
   "outputs": [
    {
     "name": "stdout",
     "output_type": "stream",
     "text": [
      "[1, 2, 4]\n"
     ]
    }
   ],
   "source": [
    "def plusOne(digits):\n",
    "    n = len(digits)\n",
    "    carry = 1\n",
    "\n",
    "    for i in range(n - 1, -1, -1):\n",
    "        digits[i] += carry\n",
    "        carry = digits[i] // 10\n",
    "        digits[i] %= 10\n",
    "\n",
    "    if carry:\n",
    "        digits.insert(0, carry)\n",
    "\n",
    "    return digits\n",
    "\n",
    "\n",
    "digits = [1, 2, 3]\n",
    "result = plusOne(digits)\n",
    "print(result)"
   ]
  },
  {
   "cell_type": "markdown",
   "id": "967c8265-ddc3-46f7-8962-f6b1a690a18c",
   "metadata": {},
   "source": [
    "Q5. You are given two integer arrays nums1 and nums2, sorted in non-decreasing order, and two integers m and n, representing the number of elements in nums1 and nums2 respectively.\n",
    "\n",
    "Merge nums1 and nums2 into a single array sorted in non-decreasing order.\n",
    "\n",
    "The final sorted array should not be returned by the function, but instead be stored inside the array nums1. To accommodate this, nums1 has a length of m + n, where the first m elements denote the elements that should be merged, and the last n elements are set to 0 and should be ignored. nums2 has a length of n.\n",
    "\n",
    "Example 1: Input: nums1 = [1,2,3,0,0,0], m = 3, nums2 = [2,5,6], n = 3 Output: [1,2,2,3,5,6]\n",
    "\n",
    "Explanation: The arrays we are merging are [1,2,3] and [2,5,6]. The result of the merge is [1,2,2,3,5,6] with the underlined elements coming from nums1."
   ]
  },
  {
   "cell_type": "code",
   "execution_count": 11,
   "id": "897ea236-4bd6-4f10-aae9-a5e261148d16",
   "metadata": {},
   "outputs": [
    {
     "name": "stdout",
     "output_type": "stream",
     "text": [
      "[1, 2, 2, 3, 5, 6]\n"
     ]
    }
   ],
   "source": [
    "def merge(nums1, m, nums2, n):\n",
    "    i = m - 1  \n",
    "    j = n - 1  \n",
    "    k = m + n - 1  \n",
    "\n",
    "    while i >= 0 and j >= 0:\n",
    "        if nums1[i] >= nums2[j]:\n",
    "            nums1[k] = nums1[i]\n",
    "            i -= 1\n",
    "        else:\n",
    "            nums1[k] = nums2[j]\n",
    "            j -= 1\n",
    "        k -= 1\n",
    "\n",
    "    \n",
    "    while j >= 0:\n",
    "        nums1[k] = nums2[j]\n",
    "        j -= 1\n",
    "        k -= 1\n",
    "\n",
    "    return nums1\n",
    "\n",
    "\n",
    "nums1 = [1, 2, 3, 0, 0, 0]\n",
    "m = 3\n",
    "nums2 = [2, 5, 6]\n",
    "n = 3\n",
    "result = merge(nums1, m, nums2, n)\n",
    "print(result)"
   ]
  },
  {
   "cell_type": "markdown",
   "id": "495ba408-5106-4c92-901d-6c3030b7638d",
   "metadata": {},
   "source": [
    "\n",
    "**Q6** Given an integer array nums, return true if any value appears at least twice in the array, and return false if every element is distinct.\n",
    "\n",
    "**Example 1:**\n",
    "Input: nums = [1,2,3,1]\n",
    "\n",
    "Output: true\n",
    "\n",
    "</aside>"
   ]
  },
  {
   "cell_type": "code",
   "execution_count": 12,
   "id": "2e339a4f-3d77-493b-8a69-890ae604c839",
   "metadata": {},
   "outputs": [
    {
     "name": "stdout",
     "output_type": "stream",
     "text": [
      "True\n"
     ]
    }
   ],
   "source": [
    "def containsDuplicate(nums):\n",
    "    num_set = set()\n",
    "\n",
    "    for num in nums:\n",
    "        if num in num_set:\n",
    "            return True\n",
    "        else:\n",
    "            num_set.add(num)\n",
    "\n",
    "    return False\n",
    "\n",
    "\n",
    "nums = [1, 2, 3, 1]\n",
    "result = containsDuplicate(nums)\n",
    "print(result)"
   ]
  },
  {
   "cell_type": "markdown",
   "id": "56803819-c61d-4a38-834f-f0ef1c3c0388",
   "metadata": {},
   "source": [
    " **Q7.** Given an integer array nums, move all 0's to the end of it while maintaining the relative order of the nonzero elements.\n",
    "\n",
    "Note that you must do this in-place without making a copy of the array.\n",
    "\n",
    "**Example 1:**\n",
    "Input: nums = [0,1,0,3,12]\n",
    "Output: [1,3,12,0,0]\n",
    "\n"
   ]
  },
  {
   "cell_type": "code",
   "execution_count": 13,
   "id": "2a2b9401-9100-4f85-827f-e7c826fc9f3e",
   "metadata": {},
   "outputs": [
    {
     "name": "stdout",
     "output_type": "stream",
     "text": [
      "[1, 3, 12, 0, 0]\n"
     ]
    }
   ],
   "source": [
    "def moveZeroes(nums):\n",
    "    left = 0 \n",
    "\n",
    "    for right in range(len(nums)):\n",
    "        if nums[right] != 0:\n",
    "            nums[left], nums[right] = nums[right], nums[left]\n",
    "            left += 1\n",
    "\n",
    "    return nums\n",
    "\n",
    "nums = [0, 1, 0, 3, 12]\n",
    "result = moveZeroes(nums)\n",
    "print(result)"
   ]
  },
  {
   "cell_type": "markdown",
   "id": "a519375f-d873-454c-afc3-a12e01f23b7e",
   "metadata": {},
   "source": [
    "Q8. You have a set of integers s, which originally contains all the numbers from 1 to n. Unfortunately, due to some error, one of the numbers in s got duplicated to another number in the set, which results in repetition of one number and loss of another number.\n",
    "\n",
    "You are given an integer array nums representing the data status of this set after the error.\n",
    "\n",
    "Find the number that occurs twice and the number that is missing and return them in the form of an array.\n",
    "\n",
    "Example 1: Input: nums = [1,2,2,4] Output: [2,3]"
   ]
  },
  {
   "cell_type": "code",
   "execution_count": 10,
   "id": "e656c7e1-30a2-4350-8168-b4924b5c452e",
   "metadata": {},
   "outputs": [
    {
     "name": "stdout",
     "output_type": "stream",
     "text": [
      "[2, 3]\n"
     ]
    }
   ],
   "source": [
    "def findErrorNums(nums):\n",
    "    n = len(nums)\n",
    "    num_set = set()\n",
    "    duplicate = 0\n",
    "    missing = 0\n",
    "\n",
    "   \n",
    "    for num in nums:\n",
    "        if num in num_set:\n",
    "            duplicate = num\n",
    "        else:\n",
    "            num_set.add(num)\n",
    "\n",
    "   \n",
    "    for i in range(1, n + 1):\n",
    "        if i not in num_set:\n",
    "            missing = i\n",
    "            break\n",
    "\n",
    "    return [duplicate, missing]\n",
    "\n",
    "nums = [1, 2, 2, 4]\n",
    "result = findErrorNums(nums)\n",
    "print(result)"
   ]
  },
  {
   "cell_type": "code",
   "execution_count": null,
   "id": "9dacabe7-d504-4c4e-b62a-a2edfa0253dc",
   "metadata": {},
   "outputs": [],
   "source": []
  }
 ],
 "metadata": {
  "kernelspec": {
   "display_name": "Python 3 (ipykernel)",
   "language": "python",
   "name": "python3"
  },
  "language_info": {
   "codemirror_mode": {
    "name": "ipython",
    "version": 3
   },
   "file_extension": ".py",
   "mimetype": "text/x-python",
   "name": "python",
   "nbconvert_exporter": "python",
   "pygments_lexer": "ipython3",
   "version": "3.10.8"
  }
 },
 "nbformat": 4,
 "nbformat_minor": 5
}
