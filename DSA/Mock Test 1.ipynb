{
 "cells": [
  {
   "cell_type": "markdown",
   "id": "501c4291-eee8-44c0-a898-926c7d1894ef",
   "metadata": {},
   "source": [
    "## DSA MOCK TEST 2 QUESTIONS"
   ]
  },
  {
   "cell_type": "markdown",
   "id": "1d21dfdb-3389-4607-ab7b-1d4caf45e8fc",
   "metadata": {},
   "source": [
    "1.Move Zeroes\n",
    "Given an integer array nums, move all 0's to the end of it while maintaining the relative order of the non-zero elements.\n",
    "\n",
    "Note that you must do this in-place without making a copy of the array.\n",
    "\n",
    "Example 1:\n",
    "Input: nums = [0,1,0,3,12]\n",
    "Output: [1,3,12,0,0]\n",
    "\n",
    "Example 2:\n",
    "Input: nums = [0]\n",
    "Output: [0]\n",
    "\n",
    "Constraints:\n",
    "a. 1 <= nums.length <= 10^4\n",
    "b. -2^31 <= nums[i] <= 2^31 - 1\n"
   ]
  },
  {
   "cell_type": "code",
   "execution_count": 1,
   "id": "834f4e39-b76f-43ed-9123-46d4c73f082d",
   "metadata": {},
   "outputs": [],
   "source": [
    "def moveZeroes(nums):\n",
    "    \"\"\"\n",
    "    Moves all zeros to the end of the array while maintaining the relative order of non-zero elements.\n",
    "    \"\"\"\n",
    "    # Initialize two pointers\n",
    "    left = 0  # Points to the current position to place the next non-zero element\n",
    "    right = 0  # Iterates through the array\n",
    "    \n",
    "    # Iterate through the array\n",
    "    while right < len(nums):\n",
    "        # If the current element is non-zero, move it to the left pointer position\n",
    "        if nums[right] != 0:\n",
    "            nums[left] = nums[right]\n",
    "            left += 1\n",
    "        \n",
    "        right += 1  # Move the right pointer\n",
    "    \n",
    "    # Fill the remaining positions with zeros\n",
    "    while left < len(nums):\n",
    "        nums[left] = 0\n",
    "        left += 1\n"
   ]
  },
  {
   "cell_type": "code",
   "execution_count": 2,
   "id": "eee00fef-2a16-48e7-94cc-a7521500c489",
   "metadata": {},
   "outputs": [
    {
     "name": "stdout",
     "output_type": "stream",
     "text": [
      "[1, 3, 12, 0, 0]\n",
      "[0]\n"
     ]
    }
   ],
   "source": [
    "#Test Case\n",
    "nums1 = [0, 1, 0, 3, 12]\n",
    "moveZeroes(nums1)\n",
    "print(nums1) \n",
    "\n",
    "nums2 = [0]\n",
    "moveZeroes(nums2)\n",
    "print(nums2)  \n"
   ]
  },
  {
   "cell_type": "markdown",
   "id": "2247a917-7690-47b2-acf3-72e53d0e0dd6",
   "metadata": {},
   "source": [
    "2.First Unique Character in a String\n",
    "\n",
    "Given a string s, find the first non-repeating character in it and return its index. If it does not exist, return -1.\n",
    "\n",
    "Example 1:\n",
    "Input: s = \"leetcode\"\n",
    "Output: 0\n",
    "\n",
    "Example 2:\n",
    "Input: s = \"loveleetcode\"\n",
    "Output: 2\n",
    "\n",
    "Example 3:\n",
    "Input: s = \"aabb\"\n",
    "Output: -1\n",
    "\n",
    "Constraints:\n",
    "a. 1 <= s.length <= 10^5\n",
    "b. s consists of only lowercase English letters.\n"
   ]
  },
  {
   "cell_type": "code",
   "execution_count": 3,
   "id": "6d18deb6-9db7-44d9-83ba-92a663754968",
   "metadata": {},
   "outputs": [],
   "source": [
    "def firstUniqChar(s):\n",
    "    \"\"\"\n",
    "    Finds the first non-repeating character in the string and returns its index.\n",
    "    \"\"\"\n",
    "    char_count = {}  # Dictionary to store the count of each character\n",
    "    \n",
    "    # Count the occurrence of each character in the string\n",
    "    for char in s:\n",
    "        char_count[char] = char_count.get(char, 0) + 1\n",
    "    \n",
    "    # Find the first non-repeating character and return its index\n",
    "    for i, char in enumerate(s):\n",
    "        if char_count[char] == 1:\n",
    "            return i\n",
    "    \n",
    "    return -1  # No non-repeating character found\n",
    "\n"
   ]
  },
  {
   "cell_type": "code",
   "execution_count": 4,
   "id": "e6717a31-fbec-4bee-b167-982e58d1708f",
   "metadata": {},
   "outputs": [
    {
     "name": "stdout",
     "output_type": "stream",
     "text": [
      "0\n",
      "2\n",
      "-1\n"
     ]
    }
   ],
   "source": [
    "#Eg.1\n",
    "s1 = \"leetcode\"\n",
    "print(firstUniqChar(s1))  \n",
    "#Eg.2\n",
    "s2 = \"loveleetcode\"\n",
    "print(firstUniqChar(s2))  \n",
    "#Eg.3\n",
    "s3 = \"aabb\"\n",
    "print(firstUniqChar(s3))  \n"
   ]
  },
  {
   "cell_type": "code",
   "execution_count": null,
   "id": "3c41e22b-7aef-4346-ac37-0e12bce6234b",
   "metadata": {},
   "outputs": [],
   "source": []
  }
 ],
 "metadata": {
  "kernelspec": {
   "display_name": "Python 3 (ipykernel)",
   "language": "python",
   "name": "python3"
  },
  "language_info": {
   "codemirror_mode": {
    "name": "ipython",
    "version": 3
   },
   "file_extension": ".py",
   "mimetype": "text/x-python",
   "name": "python",
   "nbconvert_exporter": "python",
   "pygments_lexer": "ipython3",
   "version": "3.10.8"
  }
 },
 "nbformat": 4,
 "nbformat_minor": 5
}
