{
 "cells": [
  {
   "cell_type": "markdown",
   "id": "4e0d7e7f-8944-44ec-a0b4-2b7d183781fb",
   "metadata": {},
   "source": [
    "## ASSIGNMENT 7 (Solved using Python)"
   ]
  },
  {
   "cell_type": "markdown",
   "id": "820846d3-f991-4bc1-ad16-eec94d341176",
   "metadata": {},
   "source": [
    "\n",
    "💡 **Question 1**\n",
    "\n",
    "Given two strings s and t, *determine if they are isomorphic*.\n",
    "\n",
    "Two strings s and t are isomorphic if the characters in s can be replaced to get t.\n",
    "\n",
    "All occurrences of a character must be replaced with another character while preserving the order of characters. No two characters may map to the same character, but a character may map to itself.\n",
    "\n",
    "**Example 1:**\n",
    "\n",
    "**Input:** s = \"egg\", t = \"add\"\n",
    "\n",
    "**Output:** true\n",
    "\n",
    "</aside>"
   ]
  },
  {
   "cell_type": "code",
   "execution_count": 1,
   "id": "be624ce5-644d-402a-976b-4bc05ff413a6",
   "metadata": {},
   "outputs": [
    {
     "name": "stdout",
     "output_type": "stream",
     "text": [
      "Output: True\n"
     ]
    }
   ],
   "source": [
    "def isIsomorphic(s, t):\n",
    "    if len(s) != len(t):\n",
    "        return False\n",
    "\n",
    "    mapping = {}\n",
    "    used = set()\n",
    "\n",
    "    for i in range(len(s)):\n",
    "        char_s = s[i]\n",
    "        char_t = t[i]\n",
    "\n",
    "        if char_s in mapping:\n",
    "            if mapping[char_s] != char_t:\n",
    "                return False\n",
    "        else:\n",
    "            if char_t in used:\n",
    "                return False\n",
    "            mapping[char_s] = char_t\n",
    "            used.add(char_t)\n",
    "\n",
    "    return True\n",
    "\n",
    "# Test case\n",
    "s = \"egg\"\n",
    "t = \"add\"\n",
    "print(\"Output:\", isIsomorphic(s, t))\n"
   ]
  },
  {
   "cell_type": "markdown",
   "id": "3899be70-dead-4fa4-acee-917436d8f6b6",
   "metadata": {},
   "source": [
    "\n",
    "💡 **Question 2**\n",
    "\n",
    "Given a string num which represents an integer, return true *if* num *is a **strobogrammatic number***.\n",
    "\n",
    "A **strobogrammatic number** is a number that looks the same when rotated 180 degrees (looked at upside down).\n",
    "\n",
    "**Example 1:**\n",
    "\n",
    "**Input:** num = \"69\"\n",
    "\n",
    "**Output:**\n",
    "\n",
    "true\n",
    "\n",
    "</aside>"
   ]
  },
  {
   "cell_type": "code",
   "execution_count": 2,
   "id": "a0bcb45f-674f-42db-a68c-5839650708b7",
   "metadata": {},
   "outputs": [
    {
     "name": "stdout",
     "output_type": "stream",
     "text": [
      "Output: True\n"
     ]
    }
   ],
   "source": [
    "def isStrobogrammatic(num):\n",
    "    strobogrammatic_pairs = {'0': '0', '1': '1', '6': '9', '8': '8', '9': '6'}\n",
    "\n",
    "    left = 0\n",
    "    right = len(num) - 1\n",
    "\n",
    "    while left <= right:\n",
    "        if num[left] not in strobogrammatic_pairs or num[right] not in strobogrammatic_pairs:\n",
    "            return False\n",
    "        if strobogrammatic_pairs[num[left]] != num[right]:\n",
    "            return False\n",
    "        left += 1\n",
    "        right -= 1\n",
    "\n",
    "    return True\n",
    "\n",
    "# Test case\n",
    "num = \"69\"\n",
    "print(\"Output:\", isStrobogrammatic(num))\n"
   ]
  },
  {
   "cell_type": "markdown",
   "id": "bdd2740e-a8be-4291-8696-4b8665de9570",
   "metadata": {},
   "source": [
    "\n",
    "💡 **Question 3**\n",
    "\n",
    "Given two non-negative integers, num1 and num2 represented as string, return *the sum of* num1 *and* num2 *as a string*.\n",
    "\n",
    "You must solve the problem without using any built-in library for handling large integers (such as BigInteger). You must also not convert the inputs to integers directly.\n",
    "\n",
    "**Example 1:**\n",
    "\n",
    "**Input:** num1 = \"11\", num2 = \"123\"\n",
    "\n",
    "**Output:**\n",
    "\n",
    "\"134\"\n",
    "\n",
    "</aside>"
   ]
  },
  {
   "cell_type": "code",
   "execution_count": 3,
   "id": "4d01170d-f1bd-4a19-afb9-539fa0889166",
   "metadata": {},
   "outputs": [
    {
     "name": "stdout",
     "output_type": "stream",
     "text": [
      "Output: 134\n"
     ]
    }
   ],
   "source": [
    "def addStrings(num1, num2):\n",
    "    result = []\n",
    "    carry = 0\n",
    "    i = len(num1) - 1\n",
    "    j = len(num2) - 1\n",
    "\n",
    "    while i >= 0 or j >= 0 or carry > 0:\n",
    "        digit1 = int(num1[i]) if i >= 0 else 0\n",
    "        digit2 = int(num2[j]) if j >= 0 else 0\n",
    "\n",
    "        curr_sum = digit1 + digit2 + carry\n",
    "        carry = curr_sum // 10\n",
    "        digit = curr_sum % 10\n",
    "\n",
    "        result.append(str(digit))\n",
    "\n",
    "        i -= 1\n",
    "        j -= 1\n",
    "\n",
    "    return ''.join(result[::-1])\n",
    "\n",
    "# Test case\n",
    "num1 = \"11\"\n",
    "num2 = \"123\"\n",
    "print(\"Output:\", addStrings(num1, num2))\n"
   ]
  },
  {
   "cell_type": "markdown",
   "id": "0b7fee8a-9cdc-4672-9483-385886895ef8",
   "metadata": {},
   "source": [
    "\n",
    "💡 **Question 4**\n",
    "\n",
    "Given a string s, reverse the order of characters in each word within a sentence while still preserving whitespace and initial word order.\n",
    "\n",
    "**Example 1:**\n",
    "\n",
    "**Input:** s = \"Let's take LeetCode contest\"\n",
    "\n",
    "**Output:** \"s'teL ekat edoCteeL tsetnoc\"\n",
    "\n",
    "</aside>"
   ]
  },
  {
   "cell_type": "code",
   "execution_count": 6,
   "id": "3347cd58-87e1-4d95-a4e7-f8cf6764bc20",
   "metadata": {},
   "outputs": [
    {
     "name": "stdout",
     "output_type": "stream",
     "text": [
      "Output: s'teL ekat edoCteeL tsetnoc\n"
     ]
    }
   ],
   "source": [
    "def reverseWords(s):\n",
    "    sentence = list(s)  # Convert the sentence string to a list of characters\n",
    "    start = 0\n",
    "    for end in range(len(sentence)):\n",
    "        if sentence[end] == ' ':\n",
    "            reverseWord(sentence, start, end - 1)  # Reverse the characters in the current word\n",
    "            start = end + 1\n",
    "    reverseWord(sentence, start, len(sentence) - 1)  # Reverse the last word or the entire sentence if only one word\n",
    "    return ''.join(sentence)  # Convert the list of characters back to a string\n",
    "\n",
    "def reverseWord(sentence, start, end):\n",
    "    while start < end:\n",
    "        sentence[start], sentence[end] = sentence[end], sentence[start]\n",
    "        start += 1\n",
    "        end -= 1\n",
    "\n",
    "# Test case\n",
    "s = \"Let's take LeetCode contest\"\n",
    "print(\"Output:\", reverseWords(s))\n"
   ]
  },
  {
   "cell_type": "markdown",
   "id": "468f09bc-c85d-44db-b2b6-9a3df5b26893",
   "metadata": {},
   "source": [
    "\n",
    "💡 **Question 5**\n",
    "\n",
    "Given a string s and an integer k, reverse the first k characters for every 2k characters counting from the start of the string.\n",
    "\n",
    "If there are fewer than k characters left, reverse all of them. If there are less than 2k but greater than or equal to k characters, then reverse the first k characters and leave the other as original.\n",
    "\n",
    "**Example 1:**\n",
    "\n",
    "**Input:** s = \"abcdefg\", k = 2\n",
    "\n",
    "**Output:**\n",
    "\n",
    "\"bacdfeg\"\n",
    "\n",
    "</aside>"
   ]
  },
  {
   "cell_type": "code",
   "execution_count": 8,
   "id": "516badf1-1d88-40f6-a3cb-c5cbd50e7044",
   "metadata": {},
   "outputs": [
    {
     "name": "stdout",
     "output_type": "stream",
     "text": [
      "Output: bacdfeg\n"
     ]
    }
   ],
   "source": [
    "def reverseStr(s, k):\n",
    "    n = len(s)\n",
    "    chars = list(s)  # Convert the string to a list of characters\n",
    "\n",
    "    for i in range(0, n, 2 * k):\n",
    "        start = i\n",
    "        end = min(i + k, n)  # Check if there are fewer than k characters left\n",
    "\n",
    "        # Reverse the first k characters\n",
    "        chars[start:end] = chars[start:end][::-1]\n",
    "\n",
    "    return ''.join(chars)  # Convert the list of characters back to a string\n",
    "\n",
    "# Test case\n",
    "s = \"abcdefg\"\n",
    "k = 2\n",
    "print(\"Output:\", reverseStr(s, k))\n"
   ]
  },
  {
   "cell_type": "markdown",
   "id": "f598dff4-2fd6-477a-8ffa-d530777b723f",
   "metadata": {},
   "source": [
    "\n",
    "💡 **Question 6**\n",
    "\n",
    "Given two strings s and goal, return true *if and only if* s *can become* goal *after some number of **shifts** on* s.\n",
    "\n",
    "A **shift** on s consists of moving the leftmost character of s to the rightmost position.\n",
    "\n",
    "- For example, if s = \"abcde\", then it will be \"bcdea\" after one shift.\n",
    "\n",
    "**Example 1:**\n",
    "\n",
    "**Input:** s = \"abcde\", goal = \"cdeab\"\n",
    "\n",
    "**Output:**\n",
    "\n",
    "true\n",
    "\n",
    "</aside>"
   ]
  },
  {
   "cell_type": "code",
   "execution_count": 9,
   "id": "2e397d89-349b-4c2f-a7cf-bbff6ce5b9ce",
   "metadata": {},
   "outputs": [
    {
     "name": "stdout",
     "output_type": "stream",
     "text": [
      "Output: True\n"
     ]
    }
   ],
   "source": [
    "def isGoalAchievable(s, goal):\n",
    "    if len(s) != len(goal):\n",
    "        return False\n",
    "    \n",
    "    # Concatenate s with itself\n",
    "    s2 = s + s\n",
    "    \n",
    "    # Check if goal is a substring of s + s\n",
    "    if goal in s2:\n",
    "        return True\n",
    "    \n",
    "    return False\n",
    "\n",
    "# Test case\n",
    "s = \"abcde\"\n",
    "goal = \"cdeab\"\n",
    "print(\"Output:\", isGoalAchievable(s, goal))\n"
   ]
  },
  {
   "cell_type": "markdown",
   "id": "c132b0a8-3d01-43ff-9c6b-deafc3990a57",
   "metadata": {},
   "source": [
    "\n",
    "💡 **Question 7**\n",
    "\n",
    "Given two strings s and t, return true *if they are equal when both are typed into empty text editors*. '#' means a backspace character.\n",
    "\n",
    "Note that after backspacing an empty text, the text will continue empty.\n",
    "\n",
    "**Example 1:**\n",
    "\n",
    "**Input:** s = \"ab#c\", t = \"ad#c\"\n",
    "\n",
    "**Output:** true\n",
    "\n",
    "**Explanation:**\n",
    "\n",
    "Both s and t become \"ac\".\n",
    "\n",
    "</aside>"
   ]
  },
  {
   "cell_type": "code",
   "execution_count": 13,
   "id": "1d06b4fd-c376-4912-8ba6-5e22b67afa93",
   "metadata": {},
   "outputs": [
    {
     "name": "stdout",
     "output_type": "stream",
     "text": [
      "Output: True\n"
     ]
    }
   ],
   "source": [
    "def removeBackspaces(s):\n",
    "    stack = []\n",
    "    for char in s:\n",
    "        if char != '#':\n",
    "            stack.append(char)\n",
    "        elif stack:\n",
    "            stack.pop()\n",
    "    return ''.join(stack)\n",
    "\n",
    "def areEqualStrings(s, t):\n",
    "    return removeBackspaces(s) == removeBackspaces(t)\n",
    "\n",
    "# Test case\n",
    "s = \"ab#c\"\n",
    "t = \"ad#c\"\n",
    "print(\"Output:\", areEqualStrings(s, t))\n"
   ]
  },
  {
   "cell_type": "markdown",
   "id": "240a77b9-8359-4095-8e69-ef8063fd898a",
   "metadata": {},
   "source": [
    "\n",
    "💡 **Question 8**\n",
    "\n",
    "You are given an array coordinates, coordinates[i] = [x, y], where [x, y] represents the coordinate of a point. Check if these points make a straight line in the XY plane.\n",
    "\n",
    "**Example 1:**\n",
    "**Input:** coordinates = [[1,2],[2,3],[3,4],[4,5],[5,6],[6,7]]\n",
    "\n",
    "**Output:** true\n",
    "\n",
    "\n",
    "</aside>"
   ]
  },
  {
   "cell_type": "code",
   "execution_count": 14,
   "id": "7699cae9-10c8-46e1-af3a-54531789069d",
   "metadata": {},
   "outputs": [
    {
     "name": "stdout",
     "output_type": "stream",
     "text": [
      "Output: True\n"
     ]
    }
   ],
   "source": [
    "def checkStraightLine(coordinates):\n",
    "    if len(coordinates) <= 2:\n",
    "        return True\n",
    "\n",
    "    x0, y0 = coordinates[0]\n",
    "    x1, y1 = coordinates[1]\n",
    "    for i in range(2, len(coordinates)):\n",
    "        x, y = coordinates[i]\n",
    "        # Calculate the slope between (x0, y0) and (x, y)\n",
    "        if (x1 - x0) * (y - y1) != (x - x1) * (y1 - y0):\n",
    "            return False\n",
    "\n",
    "    return True\n",
    "\n",
    "# Test case\n",
    "coordinates = [[1,2],[2,3],[3,4],[4,5],[5,6],[6,7]]\n",
    "print(\"Output:\", checkStraightLine(coordinates))\n"
   ]
  },
  {
   "cell_type": "code",
   "execution_count": null,
   "id": "76a9c7f1-f60e-4c11-9c3e-1597977f7958",
   "metadata": {},
   "outputs": [],
   "source": []
  }
 ],
 "metadata": {
  "kernelspec": {
   "display_name": "Python 3 (ipykernel)",
   "language": "python",
   "name": "python3"
  },
  "language_info": {
   "codemirror_mode": {
    "name": "ipython",
    "version": 3
   },
   "file_extension": ".py",
   "mimetype": "text/x-python",
   "name": "python",
   "nbconvert_exporter": "python",
   "pygments_lexer": "ipython3",
   "version": "3.10.8"
  }
 },
 "nbformat": 4,
 "nbformat_minor": 5
}
